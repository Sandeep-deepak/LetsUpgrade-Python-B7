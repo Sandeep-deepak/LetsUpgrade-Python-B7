{
  "nbformat": 4,
  "nbformat_minor": 0,
  "metadata": {
    "colab": {
      "name": "Day_8_Assignment.ipynb",
      "provenance": []
    },
    "kernelspec": {
      "name": "python3",
      "display_name": "Python 3"
    }
  },
  "cells": [
    {
      "cell_type": "markdown",
      "metadata": {
        "id": "oJ4gIB5ZykMt",
        "colab_type": "text"
      },
      "source": [
        "# **Question 1:**\n",
        "Write a decorator function for your taking input for you any kind of function you want to build,\n",
        "For example - You make a fibonacci series function,in which your input range is been defined by the decorator program input."
      ]
    },
    {
      "cell_type": "code",
      "metadata": {
        "id": "BEKjtAAVqb9U",
        "colab_type": "code",
        "colab": {}
      },
      "source": [
        "def fibonacci(num):\n",
        "    def fibo(n):\n",
        "      if n<0:\n",
        "          print(\"Incorrect input\")\n",
        "      # First Fibonacci number is 0\n",
        "      elif n==0:\n",
        "          return 0\n",
        "      # Second Fibonacci number is 1\n",
        "      elif n==1 or n==2:\n",
        "          return 1\n",
        "      else:\n",
        "          return fibo(n-1)+fibo(n-2)\n",
        "      return num(n)\n",
        "    return fibo\n",
        "@fibonacci\n",
        "def fibo_num(n):\n",
        "    print(n)"
      ],
      "execution_count": 45,
      "outputs": []
    },
    {
      "cell_type": "code",
      "metadata": {
        "id": "bO1MP4Ot0SD2",
        "colab_type": "code",
        "colab": {
          "base_uri": "https://localhost:8080/",
          "height": 34
        },
        "outputId": "32efa24b-c06c-4a39-f4c6-b2ba302988fa"
      },
      "source": [
        "fibo_num(6)"
      ],
      "execution_count": 38,
      "outputs": [
        {
          "output_type": "execute_result",
          "data": {
            "text/plain": [
              "8"
            ]
          },
          "metadata": {
            "tags": []
          },
          "execution_count": 38
        }
      ]
    },
    {
      "cell_type": "code",
      "metadata": {
        "id": "9N9OddDC0XCR",
        "colab_type": "code",
        "colab": {
          "base_uri": "https://localhost:8080/",
          "height": 34
        },
        "outputId": "12bd633e-441d-4537-eccb-f8f7c9d42f88"
      },
      "source": [
        "fibo_num(10)"
      ],
      "execution_count": 36,
      "outputs": [
        {
          "output_type": "execute_result",
          "data": {
            "text/plain": [
              "55"
            ]
          },
          "metadata": {
            "tags": []
          },
          "execution_count": 36
        }
      ]
    },
    {
      "cell_type": "markdown",
      "metadata": {
        "id": "dFXPiBdwyyuk",
        "colab_type": "text"
      },
      "source": [
        "# **Question 2:**\n",
        "For this challenge you need to develop a Python program to open a file in read only mode and try writing something to it and handle the subsequent errors using Exception Handling."
      ]
    },
    {
      "cell_type": "code",
      "metadata": {
        "id": "SS8OR98PqwBN",
        "colab_type": "code",
        "colab": {}
      },
      "source": [
        "%%writefile sample_file.txt\n"
      ],
      "execution_count": null,
      "outputs": []
    },
    {
      "cell_type": "code",
      "metadata": {
        "id": "ql5SAbsPyBTP",
        "colab_type": "code",
        "colab": {
          "base_uri": "https://localhost:8080/",
          "height": 68
        },
        "outputId": "2f6b2473-ae56-4be7-ff06-72346e85f5f7"
      },
      "source": [
        "try:\n",
        "    file = open(\"sample_file.txt\",\"r\")\n",
        "    file.write(\"Hi, this is Sandeep\")\n",
        "    file.close()\n",
        "except Exception as wtswrng:\n",
        "    print(wtswrng)\n",
        "    print(\"we can't write a file by opening in read only mode\")\n",
        "finally:\n",
        "    print(\"This code always run\")"
      ],
      "execution_count": 44,
      "outputs": [
        {
          "output_type": "stream",
          "text": [
            "not writable\n",
            "we can't write a file by opening in read only mode\n",
            "This code always run\n"
          ],
          "name": "stdout"
        }
      ]
    }
  ]
}