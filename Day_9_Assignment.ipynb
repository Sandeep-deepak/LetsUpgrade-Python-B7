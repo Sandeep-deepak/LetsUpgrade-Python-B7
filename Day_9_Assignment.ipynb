{
  "nbformat": 4,
  "nbformat_minor": 0,
  "metadata": {
    "colab": {
      "name": "Day_9_Assignment.ipynb",
      "provenance": [],
      "collapsed_sections": []
    },
    "kernelspec": {
      "name": "python3",
      "display_name": "Python 3"
    }
  },
  "cells": [
    {
      "cell_type": "markdown",
      "metadata": {
        "id": "b4mqddeqGhWJ",
        "colab_type": "text"
      },
      "source": [
        "# **Question 1:**\n",
        "Write a python Function for finding is a given number prime or not and do Unit Testing on it using PyLint and Unittest Library."
      ]
    },
    {
      "cell_type": "code",
      "metadata": {
        "id": "7MkjDYYPDhTT",
        "colab_type": "code",
        "colab": {
          "base_uri": "https://localhost:8080/",
          "height": 411
        },
        "outputId": "342b8d7a-62f9-4ea7-9ed5-c5d91b9d3f91"
      },
      "source": [
        "! pip install pylint"
      ],
      "execution_count": 1,
      "outputs": [
        {
          "output_type": "stream",
          "text": [
            "Collecting pylint\n",
            "\u001b[?25l  Downloading https://files.pythonhosted.org/packages/fb/13/519c1264a134beab2be4bac8dd3e64948980a5ca7833b31cf0255b21f20a/pylint-2.6.0-py3-none-any.whl (325kB)\n",
            "\r\u001b[K     |█                               | 10kB 16.9MB/s eta 0:00:01\r\u001b[K     |██                              | 20kB 1.6MB/s eta 0:00:01\r\u001b[K     |███                             | 30kB 2.2MB/s eta 0:00:01\r\u001b[K     |████                            | 40kB 2.5MB/s eta 0:00:01\r\u001b[K     |█████                           | 51kB 1.9MB/s eta 0:00:01\r\u001b[K     |██████                          | 61kB 2.2MB/s eta 0:00:01\r\u001b[K     |███████                         | 71kB 2.4MB/s eta 0:00:01\r\u001b[K     |████████                        | 81kB 2.6MB/s eta 0:00:01\r\u001b[K     |█████████                       | 92kB 2.8MB/s eta 0:00:01\r\u001b[K     |██████████                      | 102kB 2.7MB/s eta 0:00:01\r\u001b[K     |███████████                     | 112kB 2.7MB/s eta 0:00:01\r\u001b[K     |████████████                    | 122kB 2.7MB/s eta 0:00:01\r\u001b[K     |█████████████                   | 133kB 2.7MB/s eta 0:00:01\r\u001b[K     |██████████████                  | 143kB 2.7MB/s eta 0:00:01\r\u001b[K     |███████████████                 | 153kB 2.7MB/s eta 0:00:01\r\u001b[K     |████████████████                | 163kB 2.7MB/s eta 0:00:01\r\u001b[K     |█████████████████               | 174kB 2.7MB/s eta 0:00:01\r\u001b[K     |██████████████████              | 184kB 2.7MB/s eta 0:00:01\r\u001b[K     |███████████████████▏            | 194kB 2.7MB/s eta 0:00:01\r\u001b[K     |████████████████████▏           | 204kB 2.7MB/s eta 0:00:01\r\u001b[K     |█████████████████████▏          | 215kB 2.7MB/s eta 0:00:01\r\u001b[K     |██████████████████████▏         | 225kB 2.7MB/s eta 0:00:01\r\u001b[K     |███████████████████████▏        | 235kB 2.7MB/s eta 0:00:01\r\u001b[K     |████████████████████████▏       | 245kB 2.7MB/s eta 0:00:01\r\u001b[K     |█████████████████████████▏      | 256kB 2.7MB/s eta 0:00:01\r\u001b[K     |██████████████████████████▏     | 266kB 2.7MB/s eta 0:00:01\r\u001b[K     |███████████████████████████▏    | 276kB 2.7MB/s eta 0:00:01\r\u001b[K     |████████████████████████████▏   | 286kB 2.7MB/s eta 0:00:01\r\u001b[K     |█████████████████████████████▏  | 296kB 2.7MB/s eta 0:00:01\r\u001b[K     |██████████████████████████████▏ | 307kB 2.7MB/s eta 0:00:01\r\u001b[K     |███████████████████████████████▏| 317kB 2.7MB/s eta 0:00:01\r\u001b[K     |████████████████████████████████| 327kB 2.7MB/s \n",
            "\u001b[?25hRequirement already satisfied: toml>=0.7.1 in /usr/local/lib/python3.6/dist-packages (from pylint) (0.10.1)\n",
            "Collecting isort<6,>=4.2.5\n",
            "\u001b[?25l  Downloading https://files.pythonhosted.org/packages/d1/25/7ed95ccb07d3ce52598f5a57d002da6a18074ea8749991b10936cc20e539/isort-5.5.2-py3-none-any.whl (95kB)\n",
            "\u001b[K     |████████████████████████████████| 102kB 6.5MB/s \n",
            "\u001b[?25hCollecting mccabe<0.7,>=0.6\n",
            "  Downloading https://files.pythonhosted.org/packages/87/89/479dc97e18549e21354893e4ee4ef36db1d237534982482c3681ee6e7b57/mccabe-0.6.1-py2.py3-none-any.whl\n",
            "Collecting astroid<=2.5,>=2.4.0\n",
            "\u001b[?25l  Downloading https://files.pythonhosted.org/packages/24/a8/5133f51967fb21e46ee50831c3f5dda49e976b7f915408d670b1603d41d6/astroid-2.4.2-py3-none-any.whl (213kB)\n",
            "\u001b[K     |████████████████████████████████| 215kB 8.7MB/s \n",
            "\u001b[?25hRequirement already satisfied: wrapt~=1.11 in /usr/local/lib/python3.6/dist-packages (from astroid<=2.5,>=2.4.0->pylint) (1.12.1)\n",
            "Collecting lazy-object-proxy==1.4.*\n",
            "\u001b[?25l  Downloading https://files.pythonhosted.org/packages/0b/dd/b1e3407e9e6913cf178e506cd0dee818e58694d9a5cd1984e3f6a8b9a10f/lazy_object_proxy-1.4.3-cp36-cp36m-manylinux1_x86_64.whl (55kB)\n",
            "\u001b[K     |████████████████████████████████| 61kB 5.6MB/s \n",
            "\u001b[?25hRequirement already satisfied: six~=1.12 in /usr/local/lib/python3.6/dist-packages (from astroid<=2.5,>=2.4.0->pylint) (1.15.0)\n",
            "Collecting typed-ast<1.5,>=1.4.0; implementation_name == \"cpython\" and python_version < \"3.8\"\n",
            "\u001b[?25l  Downloading https://files.pythonhosted.org/packages/90/ed/5459080d95eb87a02fe860d447197be63b6e2b5e9ff73c2b0a85622994f4/typed_ast-1.4.1-cp36-cp36m-manylinux1_x86_64.whl (737kB)\n",
            "\u001b[K     |████████████████████████████████| 747kB 12.7MB/s \n",
            "\u001b[?25hInstalling collected packages: isort, mccabe, lazy-object-proxy, typed-ast, astroid, pylint\n",
            "Successfully installed astroid-2.4.2 isort-5.5.2 lazy-object-proxy-1.4.3 mccabe-0.6.1 pylint-2.6.0 typed-ast-1.4.1\n"
          ],
          "name": "stdout"
        }
      ]
    },
    {
      "cell_type": "code",
      "metadata": {
        "colab_type": "code",
        "id": "i2SYlxtWE7Rq",
        "colab": {
          "base_uri": "https://localhost:8080/",
          "height": 34
        },
        "outputId": "7c331e4d-f253-4600-b84e-9701e690fdc6"
      },
      "source": [
        "%%writefile check_prime.py\n",
        "\"\"\"\n",
        "Define a number to check whether it is a prime number or not\n",
        "\"\"\"\n",
        "def prime(num):\n",
        "    \"\"\"\n",
        "    This function Returns the output\n",
        "    \"\"\"\n",
        "    if num > 1:\n",
        "        for i in range(2, num):\n",
        "            if (num % i) == 0:\n",
        "                return str(num) + \" is not a prime number\"\n",
        "                break\n",
        "        else:\n",
        "            return str(num) + \" is a prime number\"\n",
        "    else:\n",
        "        return str(num) + \" is not a prime number\"\n",
        "        "
      ],
      "execution_count": 242,
      "outputs": [
        {
          "output_type": "stream",
          "text": [
            "Overwriting check_prime.py\n"
          ],
          "name": "stdout"
        }
      ]
    },
    {
      "cell_type": "code",
      "metadata": {
        "id": "O0d7fNipEYCN",
        "colab_type": "code",
        "colab": {
          "base_uri": "https://localhost:8080/",
          "height": 119
        },
        "outputId": "79126ebd-9d31-4eaf-b88c-be5275052f82"
      },
      "source": [
        "! pylint \"check_prime.py\""
      ],
      "execution_count": 243,
      "outputs": [
        {
          "output_type": "stream",
          "text": [
            "************* Module check_prime\n",
            "check_prime.py:12:16: W0101: Unreachable code (unreachable)\n",
            "\n",
            "-------------------------------------------------------------------\n",
            "Your code has been rated at 8.75/10 (previous run: 10.00/10, -1.25)\n",
            "\n"
          ],
          "name": "stdout"
        }
      ]
    },
    {
      "cell_type": "markdown",
      "metadata": {
        "id": "GILdZ7UFce09",
        "colab_type": "text"
      },
      "source": [
        "*Above suggestion can be rectified (by replacing return statement by print) but i ignore it because testing getting failure when comparing with string*"
      ]
    },
    {
      "cell_type": "code",
      "metadata": {
        "id": "zlG37O8ROuUK",
        "colab_type": "code",
        "colab": {
          "base_uri": "https://localhost:8080/",
          "height": 34
        },
        "outputId": "3e429a96-0fa9-4c43-842d-8fd5447f9df4"
      },
      "source": [
        "%%writefile unit_test.py\n",
        "import unittest\n",
        "import check_prime\n",
        "\n",
        "class CheckPrime(unittest.TestCase):\n",
        "  def testPrime(self):\n",
        "    n = 11\n",
        "    result = check_prime.prime(n)\n",
        "    self.assertEquals(result, \"11 is a prime number\")\n",
        "\n",
        "if __name__ == \"__main__\":\n",
        "  unittest.main()"
      ],
      "execution_count": 244,
      "outputs": [
        {
          "output_type": "stream",
          "text": [
            "Overwriting unit_test.py\n"
          ],
          "name": "stdout"
        }
      ]
    },
    {
      "cell_type": "code",
      "metadata": {
        "id": "L0ZsM3goOr8s",
        "colab_type": "code",
        "colab": {
          "base_uri": "https://localhost:8080/",
          "height": 102
        },
        "outputId": "90c2a775-bb33-469f-8b9e-26677108962c"
      },
      "source": [
        "! python unit_test.py"
      ],
      "execution_count": 245,
      "outputs": [
        {
          "output_type": "stream",
          "text": [
            ".\n",
            "----------------------------------------------------------------------\n",
            "Ran 1 test in 0.000s\n",
            "\n",
            "OK\n"
          ],
          "name": "stdout"
        }
      ]
    },
    {
      "cell_type": "markdown",
      "metadata": {
        "id": "rci8pWLFNKlz",
        "colab_type": "text"
      },
      "source": [
        "# **Question 2:**\n",
        "Make a small generator program for returning armstrong numbers in between 1-1000 in a generator object."
      ]
    },
    {
      "cell_type": "code",
      "metadata": {
        "id": "4ljX6IuBfRpD",
        "colab_type": "code",
        "colab": {}
      },
      "source": [
        "lst = list(range(1, 1000))\n",
        "def armstrong(lst):\n",
        "  for num in lst:\n",
        "    order = len(str(num))\n",
        "    sum = 0\n",
        "    temp = num\n",
        "    while temp > 0:\n",
        "        digit = temp % 10\n",
        "        sum += digit ** order\n",
        "        temp //= 10\n",
        "\n",
        "    if num == sum:\n",
        "        yield num"
      ],
      "execution_count": 275,
      "outputs": []
    },
    {
      "cell_type": "code",
      "metadata": {
        "id": "Mz44VLIPiIm1",
        "colab_type": "code",
        "colab": {
          "base_uri": "https://localhost:8080/",
          "height": 34
        },
        "outputId": "69614098-faa0-4c01-c9ca-9c694d432370"
      },
      "source": [
        "print(list(armstrong(lst)))"
      ],
      "execution_count": 277,
      "outputs": [
        {
          "output_type": "stream",
          "text": [
            "[1, 2, 3, 4, 5, 6, 7, 8, 9, 153, 370, 371, 407]\n"
          ],
          "name": "stdout"
        }
      ]
    }
  ]
}